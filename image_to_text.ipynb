{
  "nbformat": 4,
  "nbformat_minor": 0,
  "metadata": {
    "colab": {
      "name": "image_to_text.ipynb",
      "provenance": []
    },
    "kernelspec": {
      "name": "python3",
      "display_name": "Python 3"
    },
    "language_info": {
      "name": "python"
    }
  },
  "cells": [
    {
      "cell_type": "code",
      "execution_count": null,
      "metadata": {
        "id": "wPE5nr9yBTKX"
      },
      "outputs": [],
      "source": [
        "!pip install fastapi easyocr python-multipart"
      ]
    },
    {
      "cell_type": "code",
      "source": [
        "from typing import Optional\n",
        "from fastapi import FastAPI, File\n",
        "from pydantic import BaseModel\n",
        "import time\n",
        "import easyocr\n",
        "import torch\n",
        "import uuid\n",
        "\n",
        "reader = easyocr.Reader(['ru','en'])"
      ],
      "metadata": {
        "colab": {
          "base_uri": "https://localhost:8080/"
        },
        "id": "ARm9FOkeBUP2",
        "outputId": "6700169c-12de-424e-a406-8c26b779a6ed"
      },
      "execution_count": null,
      "outputs": [
        {
          "output_type": "stream",
          "name": "stderr",
          "text": [
            "CUDA not available - defaulting to CPU. Note: This module is much faster with a GPU.\n"
          ]
        }
      ]
    },
    {
      "cell_type": "code",
      "source": [
        "app = FastAPI()\n",
        "\n",
        "time_dict = {}"
      ],
      "metadata": {
        "id": "fYS6FaUm6e5b"
      },
      "execution_count": null,
      "outputs": []
    },
    {
      "cell_type": "code",
      "source": [
        "@app.get('/')\n",
        "def index():\n",
        "    return {'message': 'This is the homepage of the API. Send POST Request to /get_text to obtain a text from an image.'}\n",
        "\n",
        "@app.post(\"/get_text/\")\n",
        "async def find_text(file: bytes = File(...)):\n",
        "  time_start_similarity = time.time()  \n",
        "  id = \"some id\"\n",
        "\n",
        "  result = reader.readtext(file, detail = 0)\n",
        "\n",
        "  time_dict[id] = time.time() - time_start_similarity\n",
        "  \n",
        "  return result"
      ],
      "metadata": {
        "id": "dgoelQ5c6mE_"
      },
      "execution_count": null,
      "outputs": []
    },
    {
      "cell_type": "code",
      "source": [
        "## FOR TESTING THE MODEL\n",
        "\n",
        "file_path = '/content/path_to_image/1.jpeg'\n",
        "file = open(file_path, 'rb')\n",
        "print(find_text(file_path))"
      ],
      "metadata": {
        "colab": {
          "base_uri": "https://localhost:8080/"
        },
        "id": "kNPag297AjnI",
        "outputId": "33b1a436-fd91-4d7a-e86b-8b0f2b80b020"
      },
      "execution_count": null,
      "outputs": [
        {
          "output_type": "stream",
          "name": "stdout",
          "text": [
            "['Not all those', 'who wander', 'are lost']\n"
          ]
        }
      ]
    }
  ]
}